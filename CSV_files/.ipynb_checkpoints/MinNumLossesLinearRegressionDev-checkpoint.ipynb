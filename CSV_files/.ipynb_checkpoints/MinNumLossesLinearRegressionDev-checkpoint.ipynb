{
 "cells": [
  {
   "cell_type": "code",
   "execution_count": 97,
   "metadata": {},
   "outputs": [],
   "source": [
    "%reload_ext autoreload\n",
    "%autoreload 2\n",
    "%matplotlib inline"
   ]
  },
  {
   "cell_type": "code",
   "execution_count": 98,
   "metadata": {},
   "outputs": [],
   "source": [
    "import pandas as pd\n",
    "import numpy as np\n",
    "import matplotlib.pyplot as plt"
   ]
  },
  {
   "cell_type": "code",
   "execution_count": 99,
   "metadata": {},
   "outputs": [],
   "source": [
    "from sklearn.compose import ColumnTransformer\n",
    "from sklearn.pipeline import Pipeline\n",
    "from sklearn.impute import SimpleImputer\n",
    "from sklearn.preprocessing import OneHotEncoder\n",
    "from sklearn.preprocessing import StandardScaler\n",
    "from sklearn.decomposition import PCA\n",
    "from sklearn.linear_model import LinearRegression\n",
    "from sklearn.metrics import mean_squared_error\n",
    "from sklearn.metrics import mean_absolute_error\n",
    "from sklearn.model_selection import cross_val_score\n",
    "from sklearn.model_selection import cross_val_predict\n",
    "from sklearn.model_selection import KFold\n",
    "from pandas.plotting import scatter_matrix\n",
    "from sklearn.impute import SimpleImputer\n",
    "from sklearn.dummy import DummyClassifier\n",
    "from sklearn.feature_extraction.text import TfidfVectorizer\n",
    "from sklearn.datasets import load_iris\n",
    "from sklearn.feature_selection import SelectKBest\n",
    "from sklearn.feature_selection import chi2\n",
    "from sklearn.feature_extraction.text import CountVectorizer\n",
    "from sklearn.feature_extraction.text import TfidfTransformer\n",
    "from sklearn.naive_bayes import MultinomialNB\n",
    "from sklearn.model_selection import train_test_split\n",
    "\n",
    "from os import system\n",
    "\n",
    "from sklearn.compose import ColumnTransformer\n",
    "\n",
    "from sklearn.pipeline import Pipeline\n",
    "\n",
    "from sklearn.preprocessing import StandardScaler\n",
    "from sklearn.preprocessing import FunctionTransformer\n",
    "from sklearn.preprocessing import LabelEncoder\n",
    "\n",
    "from sklearn.linear_model import LinearRegression\n",
    "from sklearn.linear_model import LogisticRegression\n",
    "\n",
    "from sklearn.tree import DecisionTreeRegressor\n",
    "from sklearn.tree import DecisionTreeClassifier\n",
    "from sklearn.tree import export_graphviz\n",
    "\n",
    "from sklearn.linear_model import Lasso\n",
    "\n",
    "from sklearn.ensemble import RandomForestClassifier\n",
    "from sklearn.ensemble import RandomForestRegressor\n",
    "from sklearn.ensemble import AdaBoostClassifier\n",
    "from sklearn.ensemble import AdaBoostRegressor\n",
    "from sklearn.ensemble import GradientBoostingClassifier\n",
    "from sklearn.ensemble import GradientBoostingRegressor\n",
    "\n",
    "from sklearn.model_selection import cross_val_score\n",
    "\n",
    "import seaborn as sns\n",
    "\n",
    "import warnings\n",
    "from sklearn.exceptions import DataConversionWarning\n",
    "warnings.filterwarnings(action='ignore', category=DataConversionWarning)\n",
    "warnings.filterwarnings(action='ignore', category=FutureWarning)"
   ]
  },
  {
   "cell_type": "code",
   "execution_count": 100,
   "metadata": {},
   "outputs": [
    {
     "name": "stdout",
     "output_type": "stream",
     "text": [
      "15497\n"
     ]
    }
   ],
   "source": [
    "original_df = pd.read_csv(\"MinNumLosses.csv\")\n",
    "df = pd.read_csv(\"MinNumLosses.csv\")\n",
    "# print(len(df))\n",
    "# runtime15=df[df['min_num_losses'] == -1].index\n",
    "# df.drop(runtime15, inplace=True)\n",
    "# test_df = df(np.random.randn(100,2))\n",
    "train_df, test_df = train_test_split(df, test_size = 0.2)\n",
    "test_y = test_df['min_num_losses'].values\n",
    "train_df, validation_df = train_test_split(train_df, test_size=0.2)\n",
    "# train_df.reset_index(drop=True)\n",
    "print(len(train_df))"
   ]
  },
  {
   "cell_type": "code",
   "execution_count": 101,
   "metadata": {
    "scrolled": true
   },
   "outputs": [
    {
     "data": {
      "text/html": [
       "<div>\n",
       "<style scoped>\n",
       "    .dataframe tbody tr th:only-of-type {\n",
       "        vertical-align: middle;\n",
       "    }\n",
       "\n",
       "    .dataframe tbody tr th {\n",
       "        vertical-align: top;\n",
       "    }\n",
       "\n",
       "    .dataframe thead th {\n",
       "        text-align: right;\n",
       "    }\n",
       "</style>\n",
       "<table border=\"1\" class=\"dataframe\">\n",
       "  <thead>\n",
       "    <tr style=\"text-align: right;\">\n",
       "      <th></th>\n",
       "      <th>c_avg_deg_cons</th>\n",
       "      <th>c_avg_dom_cons</th>\n",
       "      <th>c_avg_domdeg_cons</th>\n",
       "      <th>c_bounds_d</th>\n",
       "      <th>c_bounds_r</th>\n",
       "      <th>c_bounds_z</th>\n",
       "      <th>c_cv_deg_cons</th>\n",
       "      <th>c_cv_dom_cons</th>\n",
       "      <th>c_cv_domdeg_cons</th>\n",
       "      <th>c_domain</th>\n",
       "      <th>...</th>\n",
       "      <th>v_ratio_bounded</th>\n",
       "      <th>v_ratio_vars</th>\n",
       "      <th>v_sum_deg_vars</th>\n",
       "      <th>v_sum_dom_vars</th>\n",
       "      <th>v_sum_domdeg_vars</th>\n",
       "      <th>number_of_teams</th>\n",
       "      <th>fixtures_left</th>\n",
       "      <th>number_of_constraints</th>\n",
       "      <th>runtime</th>\n",
       "      <th>min_num_losses</th>\n",
       "    </tr>\n",
       "  </thead>\n",
       "  <tbody>\n",
       "    <tr>\n",
       "      <th>count</th>\n",
       "      <td>15497.000000</td>\n",
       "      <td>15497.000000</td>\n",
       "      <td>15497.000000</td>\n",
       "      <td>15497.0</td>\n",
       "      <td>15497.0</td>\n",
       "      <td>15497.0</td>\n",
       "      <td>15497.000000</td>\n",
       "      <td>15497.000000</td>\n",
       "      <td>15497.000000</td>\n",
       "      <td>15497.0</td>\n",
       "      <td>...</td>\n",
       "      <td>15497.000000</td>\n",
       "      <td>15497.000000</td>\n",
       "      <td>15497.000000</td>\n",
       "      <td>15497.000000</td>\n",
       "      <td>15497.000000</td>\n",
       "      <td>15497.000000</td>\n",
       "      <td>15497.000000</td>\n",
       "      <td>15497.000000</td>\n",
       "      <td>15497.000000</td>\n",
       "      <td>15497.000000</td>\n",
       "    </tr>\n",
       "    <tr>\n",
       "      <th>mean</th>\n",
       "      <td>2.743744</td>\n",
       "      <td>5.013706</td>\n",
       "      <td>1.759298</td>\n",
       "      <td>0.0</td>\n",
       "      <td>0.0</td>\n",
       "      <td>0.0</td>\n",
       "      <td>0.691411</td>\n",
       "      <td>0.759527</td>\n",
       "      <td>0.485888</td>\n",
       "      <td>0.0</td>\n",
       "      <td>...</td>\n",
       "      <td>0.392484</td>\n",
       "      <td>0.980674</td>\n",
       "      <td>2263.777247</td>\n",
       "      <td>2273.238949</td>\n",
       "      <td>977.163592</td>\n",
       "      <td>11.555785</td>\n",
       "      <td>5.293024</td>\n",
       "      <td>2.997677</td>\n",
       "      <td>3.676059</td>\n",
       "      <td>2.423566</td>\n",
       "    </tr>\n",
       "    <tr>\n",
       "      <th>std</th>\n",
       "      <td>0.081796</td>\n",
       "      <td>0.623619</td>\n",
       "      <td>0.167936</td>\n",
       "      <td>0.0</td>\n",
       "      <td>0.0</td>\n",
       "      <td>0.0</td>\n",
       "      <td>0.158054</td>\n",
       "      <td>0.107504</td>\n",
       "      <td>0.085444</td>\n",
       "      <td>0.0</td>\n",
       "      <td>...</td>\n",
       "      <td>0.182303</td>\n",
       "      <td>0.008104</td>\n",
       "      <td>1447.995492</td>\n",
       "      <td>1495.516227</td>\n",
       "      <td>629.127357</td>\n",
       "      <td>3.824105</td>\n",
       "      <td>3.528046</td>\n",
       "      <td>1.417584</td>\n",
       "      <td>6.270251</td>\n",
       "      <td>2.708136</td>\n",
       "    </tr>\n",
       "    <tr>\n",
       "      <th>min</th>\n",
       "      <td>2.432620</td>\n",
       "      <td>3.653340</td>\n",
       "      <td>1.408750</td>\n",
       "      <td>0.0</td>\n",
       "      <td>0.0</td>\n",
       "      <td>0.0</td>\n",
       "      <td>0.412949</td>\n",
       "      <td>0.511876</td>\n",
       "      <td>0.278296</td>\n",
       "      <td>0.0</td>\n",
       "      <td>...</td>\n",
       "      <td>0.112381</td>\n",
       "      <td>0.950704</td>\n",
       "      <td>341.000000</td>\n",
       "      <td>339.000000</td>\n",
       "      <td>155.000000</td>\n",
       "      <td>6.000000</td>\n",
       "      <td>1.000000</td>\n",
       "      <td>1.000000</td>\n",
       "      <td>0.020000</td>\n",
       "      <td>-1.000000</td>\n",
       "    </tr>\n",
       "    <tr>\n",
       "      <th>25%</th>\n",
       "      <td>2.702190</td>\n",
       "      <td>4.560220</td>\n",
       "      <td>1.623820</td>\n",
       "      <td>0.0</td>\n",
       "      <td>0.0</td>\n",
       "      <td>0.0</td>\n",
       "      <td>0.548298</td>\n",
       "      <td>0.668022</td>\n",
       "      <td>0.420391</td>\n",
       "      <td>0.0</td>\n",
       "      <td>...</td>\n",
       "      <td>0.194175</td>\n",
       "      <td>0.974763</td>\n",
       "      <td>919.000000</td>\n",
       "      <td>886.000000</td>\n",
       "      <td>389.759000</td>\n",
       "      <td>8.000000</td>\n",
       "      <td>2.000000</td>\n",
       "      <td>2.000000</td>\n",
       "      <td>0.040000</td>\n",
       "      <td>0.000000</td>\n",
       "    </tr>\n",
       "    <tr>\n",
       "      <th>50%</th>\n",
       "      <td>2.766260</td>\n",
       "      <td>5.063690</td>\n",
       "      <td>1.766280</td>\n",
       "      <td>0.0</td>\n",
       "      <td>0.0</td>\n",
       "      <td>0.0</td>\n",
       "      <td>0.712490</td>\n",
       "      <td>0.774555</td>\n",
       "      <td>0.484760</td>\n",
       "      <td>0.0</td>\n",
       "      <td>...</td>\n",
       "      <td>0.463229</td>\n",
       "      <td>0.983051</td>\n",
       "      <td>1990.000000</td>\n",
       "      <td>1990.000000</td>\n",
       "      <td>880.443000</td>\n",
       "      <td>12.000000</td>\n",
       "      <td>4.000000</td>\n",
       "      <td>3.000000</td>\n",
       "      <td>0.120000</td>\n",
       "      <td>2.000000</td>\n",
       "    </tr>\n",
       "    <tr>\n",
       "      <th>75%</th>\n",
       "      <td>2.805930</td>\n",
       "      <td>5.593530</td>\n",
       "      <td>1.914570</td>\n",
       "      <td>0.0</td>\n",
       "      <td>0.0</td>\n",
       "      <td>0.0</td>\n",
       "      <td>0.828050</td>\n",
       "      <td>0.843182</td>\n",
       "      <td>0.554448</td>\n",
       "      <td>0.0</td>\n",
       "      <td>...</td>\n",
       "      <td>0.535337</td>\n",
       "      <td>0.987384</td>\n",
       "      <td>3438.000000</td>\n",
       "      <td>3430.000000</td>\n",
       "      <td>1494.190000</td>\n",
       "      <td>15.000000</td>\n",
       "      <td>7.000000</td>\n",
       "      <td>4.000000</td>\n",
       "      <td>2.810000</td>\n",
       "      <td>4.000000</td>\n",
       "    </tr>\n",
       "    <tr>\n",
       "      <th>max</th>\n",
       "      <td>2.878490</td>\n",
       "      <td>5.963050</td>\n",
       "      <td>2.037180</td>\n",
       "      <td>0.0</td>\n",
       "      <td>0.0</td>\n",
       "      <td>0.0</td>\n",
       "      <td>1.018510</td>\n",
       "      <td>1.028680</td>\n",
       "      <td>0.656578</td>\n",
       "      <td>0.0</td>\n",
       "      <td>...</td>\n",
       "      <td>0.711856</td>\n",
       "      <td>0.992311</td>\n",
       "      <td>6156.000000</td>\n",
       "      <td>6624.000000</td>\n",
       "      <td>2712.780000</td>\n",
       "      <td>18.000000</td>\n",
       "      <td>16.000000</td>\n",
       "      <td>5.000000</td>\n",
       "      <td>15.040000</td>\n",
       "      <td>9.000000</td>\n",
       "    </tr>\n",
       "  </tbody>\n",
       "</table>\n",
       "<p>8 rows × 100 columns</p>\n",
       "</div>"
      ],
      "text/plain": [
       "       c_avg_deg_cons  c_avg_dom_cons  c_avg_domdeg_cons  c_bounds_d  \\\n",
       "count    15497.000000    15497.000000       15497.000000     15497.0   \n",
       "mean         2.743744        5.013706           1.759298         0.0   \n",
       "std          0.081796        0.623619           0.167936         0.0   \n",
       "min          2.432620        3.653340           1.408750         0.0   \n",
       "25%          2.702190        4.560220           1.623820         0.0   \n",
       "50%          2.766260        5.063690           1.766280         0.0   \n",
       "75%          2.805930        5.593530           1.914570         0.0   \n",
       "max          2.878490        5.963050           2.037180         0.0   \n",
       "\n",
       "       c_bounds_r  c_bounds_z  c_cv_deg_cons  c_cv_dom_cons  c_cv_domdeg_cons  \\\n",
       "count     15497.0     15497.0   15497.000000   15497.000000      15497.000000   \n",
       "mean          0.0         0.0       0.691411       0.759527          0.485888   \n",
       "std           0.0         0.0       0.158054       0.107504          0.085444   \n",
       "min           0.0         0.0       0.412949       0.511876          0.278296   \n",
       "25%           0.0         0.0       0.548298       0.668022          0.420391   \n",
       "50%           0.0         0.0       0.712490       0.774555          0.484760   \n",
       "75%           0.0         0.0       0.828050       0.843182          0.554448   \n",
       "max           0.0         0.0       1.018510       1.028680          0.656578   \n",
       "\n",
       "       c_domain       ...        v_ratio_bounded  v_ratio_vars  \\\n",
       "count   15497.0       ...           15497.000000  15497.000000   \n",
       "mean        0.0       ...               0.392484      0.980674   \n",
       "std         0.0       ...               0.182303      0.008104   \n",
       "min         0.0       ...               0.112381      0.950704   \n",
       "25%         0.0       ...               0.194175      0.974763   \n",
       "50%         0.0       ...               0.463229      0.983051   \n",
       "75%         0.0       ...               0.535337      0.987384   \n",
       "max         0.0       ...               0.711856      0.992311   \n",
       "\n",
       "       v_sum_deg_vars  v_sum_dom_vars  v_sum_domdeg_vars\\n\\n  number_of_teams  \\\n",
       "count    15497.000000    15497.000000           15497.000000     15497.000000   \n",
       "mean      2263.777247     2273.238949             977.163592        11.555785   \n",
       "std       1447.995492     1495.516227             629.127357         3.824105   \n",
       "min        341.000000      339.000000             155.000000         6.000000   \n",
       "25%        919.000000      886.000000             389.759000         8.000000   \n",
       "50%       1990.000000     1990.000000             880.443000        12.000000   \n",
       "75%       3438.000000     3430.000000            1494.190000        15.000000   \n",
       "max       6156.000000     6624.000000            2712.780000        18.000000   \n",
       "\n",
       "       fixtures_left  number_of_constraints       runtime  min_num_losses  \n",
       "count   15497.000000           15497.000000  15497.000000    15497.000000  \n",
       "mean        5.293024               2.997677      3.676059        2.423566  \n",
       "std         3.528046               1.417584      6.270251        2.708136  \n",
       "min         1.000000               1.000000      0.020000       -1.000000  \n",
       "25%         2.000000               2.000000      0.040000        0.000000  \n",
       "50%         4.000000               3.000000      0.120000        2.000000  \n",
       "75%         7.000000               4.000000      2.810000        4.000000  \n",
       "max        16.000000               5.000000     15.040000        9.000000  \n",
       "\n",
       "[8 rows x 100 columns]"
      ]
     },
     "execution_count": 101,
     "metadata": {},
     "output_type": "execute_result"
    }
   ],
   "source": [
    "train_df.describe(include='all')\n",
    "# print((train_df['runtime'].max())%1 == 0)\n",
    "# print(train_df[(train_df['c_avg_deg_cons'] < 3)])"
   ]
  },
  {
   "cell_type": "code",
   "execution_count": 102,
   "metadata": {},
   "outputs": [],
   "source": [
    "def getAverages(lst, average_feature, average_result):\n",
    "    copy_lst = lst.reset_index(drop=True)\n",
    "    averages = []\n",
    "    if copy_lst[average_feature].max()%1 == 0:\n",
    "        for value in range(1, copy_lst[average_feature].max()+1):\n",
    "            value_indices = np.where(copy_lst[average_feature]==value)\n",
    "            total=0\n",
    "            for value_index in value_indices[0]:\n",
    "                total += int(copy_lst[average_result][value_index])\n",
    "            if len(value_indices[0]) != 0:\n",
    "                averages.append([value, total/len(value_indices[0])])\n",
    "    else:\n",
    "        for value in range(1, (int(copy_lst[average_feature].max()//1)+3)):\n",
    "            value_indices_less = np.where((copy_lst[average_feature]<=value))\n",
    "            value_indices_greater = np.where((copy_lst[average_feature]>value-1))\n",
    "            value_indices = [np.intersect1d(value_indices_less, value_indices_greater)]\n",
    "            print(np.average(value_indices[0]))\n",
    "            total=0\n",
    "            for value_index in value_indices[0]:\n",
    "                total += copy_lst[average_result][value_index]\n",
    "            if len(value_indices[0]) != 0:\n",
    "                averages.append([value, total/len(value_indices[0])])\n",
    "    return averages"
   ]
  },
  {
   "cell_type": "code",
   "execution_count": 103,
   "metadata": {},
   "outputs": [],
   "source": [
    "train_y = train_df['min_num_losses'].values\n",
    "league_numeric_features = [\n",
    " 'c_avg_deg_cons',\n",
    " 'c_avg_dom_cons',\n",
    " 'c_avg_domdeg_cons',\n",
    " 'c_cv_deg_cons',\n",
    " 'c_cv_dom_cons',\n",
    " 'c_cv_domdeg_cons',\n",
    " 'c_ent_deg_cons',\n",
    " 'c_ent_dom_cons',\n",
    " 'c_ent_domdeg_cons',\n",
    " 'c_logprod_deg_cons',\n",
    " 'c_logprod_dom_cons',\n",
    " 'c_max_deg_cons',\n",
    " 'c_max_dom_cons',\n",
    " 'c_max_domdeg_cons',\n",
    " 'c_num_cons',\n",
    " 'c_ratio_cons',\n",
    " 'c_sum_ari_cons',\n",
    " 'c_sum_dom_cons',\n",
    " 'c_sum_domdeg_cons',\n",
    " 'd_bool_vars',\n",
    " 'd_int_cons',\n",
    " 'd_int_vars',\n",
    " 'd_ratio_bool_vars',\n",
    " 'd_ratio_int_cons',\n",
    " 'd_ratio_int_vars',\n",
    " 'o_deg',\n",
    " 'o_deg_avg',\n",
    " 'o_deg_cons',\n",
    " 'o_deg_std',\n",
    " 'o_dom',\n",
    " 'o_dom_avg',\n",
    " 'o_dom_std',\n",
    " 'v_avg_deg_vars',\n",
    " 'v_avg_dom_vars',\n",
    " 'v_avg_domdeg_vars',\n",
    " 'v_cv_deg_vars',\n",
    " 'v_cv_dom_vars',\n",
    " 'v_cv_domdeg_vars',\n",
    " 'v_def_vars',\n",
    " 'v_ent_deg_vars',\n",
    " 'v_ent_dom_vars',\n",
    " 'v_ent_domdeg_vars',\n",
    " 'v_intro_vars',\n",
    " 'v_logprod_deg_vars',\n",
    " 'v_logprod_dom_vars',\n",
    " 'v_max_deg_vars',\n",
    " 'v_max_dom_vars',\n",
    " 'v_max_domdeg_vars',\n",
    " 'v_min_dom_vars',\n",
    " 'v_min_domdeg_vars',\n",
    " 'v_num_aliases',\n",
    " 'v_num_consts',\n",
    " 'v_num_vars',\n",
    " 'v_ratio_bounded',\n",
    " 'v_ratio_vars',\n",
    " 'v_sum_deg_vars',\n",
    " 'v_sum_dom_vars',\n",
    " 'v_sum_domdeg_vars\\n\\n',\n",
    " 'number_of_teams',\n",
    " 'fixtures_left',\n",
    " 'number_of_constraints']\n",
    "\n",
    "null_league_numeric_values = [\n",
    "    'v_min_deg_vars',\n",
    "    'c_bounds_d',\n",
    "    'c_bounds_r',\n",
    "    'c_bounds_z',\n",
    "    'd_ratio_set_cons',\n",
    "    'd_ratio_set_vars',\n",
    "    'd_set_cons',\n",
    "    'd_set_vars',\n",
    "    'gc_diff_globs',\n",
    "    'gc_global_cons',\n",
    "    'gc_ratio_diff',\n",
    "    'gc_ratio_globs',\n",
    "    's_bool_search',\n",
    "    's_first_fail',\n",
    "    's_goal',\n",
    "    's_indomain_max',\n",
    "    's_indomain_min',\n",
    "    's_input_order',\n",
    "    's_int_search',\n",
    "    's_labeled_vars',\n",
    "    's_other_val',\n",
    "    's_other_var',\n",
    "    's_set_search',\n",
    "    'o_dom_deg',\n",
    "    'd_ratio_float_cons',\n",
    "    'd_ratio_float_vars',\n",
    "    'c_min_deg_cons',\n",
    "    'c_min_dom_cons',\n",
    "    'c_min_domdeg_cons',\n",
    "    'd_ratio_array_cons',\n",
    "    'd_ratio_bool_cons',\n",
    "    'd_float_cons',\n",
    "    'd_float_vars',\n",
    "    'd_array_cons',\n",
    "    'd_bool_cons',\n",
    "    'c_domain',\n",
    "    'c_priority',\n",
    "]"
   ]
  },
  {
   "cell_type": "code",
   "execution_count": 104,
   "metadata": {},
   "outputs": [],
   "source": [
    "# # split the features into sets of 5, check their correlation with output, and delete\n",
    "# # uncorrelated features\n",
    "# split_features = []\n",
    "# # league_numeric_features += ['result']\n",
    "# features_with_y = league_numeric_features\n",
    "# # train_df['result'] = train_y\n",
    "\n",
    "# for i in range(0, len(features_with_y), 10):\n",
    "#     split_features.append(features_with_y[i:i+10]+['min_num_losses'])\n",
    "\n",
    "# # print(split_features)\n",
    "# # list(df.columns)\n",
    "# plt.figure(figsize=(30,30))\n",
    "# # cor = train_df[split_features[1]].corr()\n",
    "# cor = train_df[league_numeric_features+['min_num_losses']].corr()\n",
    "# # print(train_df[split_features[1]].corr())\n",
    "# sns.heatmap(cor, annot=True, cmap=plt.cm.Reds)\n",
    "# plt.show()"
   ]
  },
  {
   "cell_type": "code",
   "execution_count": 105,
   "metadata": {},
   "outputs": [],
   "source": [
    "lr = Pipeline([\n",
    "    ('pre', ColumnTransformer([('num', FunctionTransformer(lambda x : x), league_numeric_features)], remainder=\"drop\")),\n",
    "    ('est', LinearRegression())\n",
    "])"
   ]
  },
  {
   "cell_type": "code",
   "execution_count": 106,
   "metadata": {},
   "outputs": [
    {
     "name": "stdout",
     "output_type": "stream",
     "text": [
      "['gc_ratio_diff']\n"
     ]
    }
   ],
   "source": [
    "# train_df.isnull().sum()\n",
    "print([i for i in train_df.columns if train_df[i].isnull().any()])\n",
    "# train_df.isna().any()"
   ]
  },
  {
   "cell_type": "code",
   "execution_count": 107,
   "metadata": {},
   "outputs": [
    {
     "name": "stdout",
     "output_type": "stream",
     "text": [
      "0.23671972348463408\n"
     ]
    },
    {
     "name": "stderr",
     "output_type": "stream",
     "text": [
      "/home/jack/.local/lib/python3.6/site-packages/sklearn/linear_model/_coordinate_descent.py:476: ConvergenceWarning: Objective did not converge. You might want to increase the number of iterations. Duality gap: 33531.48779448734, tolerance: 11.364771375104848\n",
      "  positive)\n"
     ]
    }
   ],
   "source": [
    "lr = Pipeline([\n",
    "    ('pre', ColumnTransformer([('num', FunctionTransformer(lambda x : x), league_numeric_features)], remainder=\"drop\")),\n",
    "    ('est', Lasso(alpha=1.0))\n",
    "])\n",
    "\n",
    "model = lr.fit(train_df, train_y)\n",
    "print(model.score(train_df, train_y))"
   ]
  },
  {
   "cell_type": "code",
   "execution_count": 108,
   "metadata": {
    "scrolled": true
   },
   "outputs": [
    {
     "name": "stderr",
     "output_type": "stream",
     "text": [
      "/home/jack/.local/lib/python3.6/site-packages/sklearn/linear_model/_coordinate_descent.py:476: ConvergenceWarning: Objective did not converge. You might want to increase the number of iterations. Duality gap: 9226.25977460824, tolerance: 3.1601721036935113\n",
      "  positive)\n",
      "/home/jack/.local/lib/python3.6/site-packages/sklearn/linear_model/_coordinate_descent.py:476: ConvergenceWarning: Objective did not converge. You might want to increase the number of iterations. Duality gap: 9019.291407444747, tolerance: 3.102837623308095\n",
      "  positive)\n",
      "/home/jack/.local/lib/python3.6/site-packages/sklearn/linear_model/_coordinate_descent.py:476: ConvergenceWarning: Objective did not converge. You might want to increase the number of iterations. Duality gap: 9241.769723751398, tolerance: 3.166284147740306\n",
      "  positive)\n",
      "/home/jack/.local/lib/python3.6/site-packages/sklearn/linear_model/_coordinate_descent.py:476: ConvergenceWarning: Objective did not converge. You might want to increase the number of iterations. Duality gap: 9267.179937884863, tolerance: 3.1431606331727457\n",
      "  positive)\n",
      "/home/jack/.local/lib/python3.6/site-packages/sklearn/linear_model/_coordinate_descent.py:476: ConvergenceWarning: Objective did not converge. You might want to increase the number of iterations. Duality gap: 9050.240710223046, tolerance: 3.1424597247706494\n",
      "  positive)\n",
      "/home/jack/.local/lib/python3.6/site-packages/sklearn/linear_model/_coordinate_descent.py:476: ConvergenceWarning: Objective did not converge. You might want to increase the number of iterations. Duality gap: 9139.596149875204, tolerance: 3.1419904587155933\n",
      "  positive)\n",
      "/home/jack/.local/lib/python3.6/site-packages/sklearn/linear_model/_coordinate_descent.py:476: ConvergenceWarning: Objective did not converge. You might want to increase the number of iterations. Duality gap: 9290.634312305465, tolerance: 3.1576300688073435\n",
      "  positive)\n",
      "/home/jack/.local/lib/python3.6/site-packages/sklearn/linear_model/_coordinate_descent.py:476: ConvergenceWarning: Objective did not converge. You might want to increase the number of iterations. Duality gap: 9174.959537989671, tolerance: 3.151137408256884\n",
      "  positive)\n",
      "/home/jack/.local/lib/python3.6/site-packages/sklearn/linear_model/_coordinate_descent.py:476: ConvergenceWarning: Objective did not converge. You might want to increase the number of iterations. Duality gap: 9097.692614022515, tolerance: 3.1398968807339434\n",
      "  positive)\n",
      "/home/jack/.local/lib/python3.6/site-packages/sklearn/linear_model/_coordinate_descent.py:476: ConvergenceWarning: Objective did not converge. You might want to increase the number of iterations. Duality gap: 9348.988665964713, tolerance: 3.1692586238532097\n",
      "  positive)\n"
     ]
    },
    {
     "data": {
      "text/plain": [
       "-5.673413147783907"
      ]
     },
     "execution_count": 108,
     "metadata": {},
     "output_type": "execute_result"
    }
   ],
   "source": [
    "np.mean(cross_val_score(lr, test_df, test_y, scoring='neg_mean_squared_error', cv=10))"
   ]
  },
  {
   "cell_type": "code",
   "execution_count": 109,
   "metadata": {},
   "outputs": [
    {
     "name": "stderr",
     "output_type": "stream",
     "text": [
      "/home/jack/.local/lib/python3.6/site-packages/sklearn/linear_model/_coordinate_descent.py:476: ConvergenceWarning: Objective did not converge. You might want to increase the number of iterations. Duality gap: 9226.25977460824, tolerance: 3.1601721036935113\n",
      "  positive)\n",
      "/home/jack/.local/lib/python3.6/site-packages/sklearn/linear_model/_coordinate_descent.py:476: ConvergenceWarning: Objective did not converge. You might want to increase the number of iterations. Duality gap: 9019.291407444747, tolerance: 3.102837623308095\n",
      "  positive)\n",
      "/home/jack/.local/lib/python3.6/site-packages/sklearn/linear_model/_coordinate_descent.py:476: ConvergenceWarning: Objective did not converge. You might want to increase the number of iterations. Duality gap: 9241.769723751398, tolerance: 3.166284147740306\n",
      "  positive)\n",
      "/home/jack/.local/lib/python3.6/site-packages/sklearn/linear_model/_coordinate_descent.py:476: ConvergenceWarning: Objective did not converge. You might want to increase the number of iterations. Duality gap: 9267.179937884863, tolerance: 3.1431606331727457\n",
      "  positive)\n",
      "/home/jack/.local/lib/python3.6/site-packages/sklearn/linear_model/_coordinate_descent.py:476: ConvergenceWarning: Objective did not converge. You might want to increase the number of iterations. Duality gap: 9050.240710223046, tolerance: 3.1424597247706494\n",
      "  positive)\n",
      "/home/jack/.local/lib/python3.6/site-packages/sklearn/linear_model/_coordinate_descent.py:476: ConvergenceWarning: Objective did not converge. You might want to increase the number of iterations. Duality gap: 9139.596149875204, tolerance: 3.1419904587155933\n",
      "  positive)\n",
      "/home/jack/.local/lib/python3.6/site-packages/sklearn/linear_model/_coordinate_descent.py:476: ConvergenceWarning: Objective did not converge. You might want to increase the number of iterations. Duality gap: 9290.634312305465, tolerance: 3.1576300688073435\n",
      "  positive)\n",
      "/home/jack/.local/lib/python3.6/site-packages/sklearn/linear_model/_coordinate_descent.py:476: ConvergenceWarning: Objective did not converge. You might want to increase the number of iterations. Duality gap: 9174.959537989671, tolerance: 3.151137408256884\n",
      "  positive)\n",
      "/home/jack/.local/lib/python3.6/site-packages/sklearn/linear_model/_coordinate_descent.py:476: ConvergenceWarning: Objective did not converge. You might want to increase the number of iterations. Duality gap: 9097.692614022515, tolerance: 3.1398968807339434\n",
      "  positive)\n",
      "/home/jack/.local/lib/python3.6/site-packages/sklearn/linear_model/_coordinate_descent.py:476: ConvergenceWarning: Objective did not converge. You might want to increase the number of iterations. Duality gap: 9348.988665964713, tolerance: 3.1692586238532097\n",
      "  positive)\n"
     ]
    },
    {
     "data": {
      "image/png": "[encoded data removed]",
      "text/plain": [
       "<Figure size 432x288 with 1 Axes>"
      ]
     },
     "metadata": {},
     "output_type": "display_data"
    }
   ],
   "source": [
    "predicted = cross_val_predict(lr, test_df, test_y, cv=10)\n",
    "\n",
    "fix, ax = plt.subplots()\n",
    "ax.scatter(test_y, predicted, edgecolors=(0,0,0))\n",
    "ax.plot([test_y.min(), test_y.max()], [test_y.min(), test_y.max()], 'k--', lw=4)\n",
    "plt.title(\"Linear Regression\")\n",
    "ax.set_xlabel('Actual Minimum Number of Losses')\n",
    "ax.set_ylabel('Predicted Minimum Number of Losses')\n",
    "plt.show()\n",
    "# remove 15 second timeouts"
   ]
  },
  {
   "cell_type": "code",
   "execution_count": 110,
   "metadata": {},
   "outputs": [
    {
     "data": {
      "text/plain": [
       "array([[ 1.        , -0.15877439],\n",
       "       [-0.15877439,  1.        ]])"
      ]
     },
     "execution_count": 110,
     "metadata": {},
     "output_type": "execute_result"
    }
   ],
   "source": [
    "np.corrcoef(train_df['fixtures_left'], train_df['min_num_losses'])"
   ]
  },
  {
   "cell_type": "code",
   "execution_count": 118,
   "metadata": {},
   "outputs": [
    {
     "data": {
      "image/png": "[encoded data removed]",
      "text/plain": [
       "<Figure size 432x432 with 1 Axes>"
      ]
     },
     "metadata": {},
     "output_type": "display_data"
    }
   ],
   "source": [
    "results = getAverages(train_df, 'number_of_teams', 'runtime')\n",
    "runtime = []\n",
    "number_of_teams = []\n",
    "for item in results:\n",
    "    runtime.append(item[1])\n",
    "    number_of_teams.append(item[0])\n",
    "\n",
    "fig = plt.figure(figsize=(6,6))\n",
    "plt.title('Average runtime vs number_of_teams Correlation')\n",
    "plt.plot(runtime, number_of_teams, color='blue', marker='o')\n",
    "plt.xlabel('Runtime (s)')\n",
    "plt.ylabel('Number of Teams')\n",
    "plt.show()"
   ]
  },
  {
   "cell_type": "code",
   "execution_count": 119,
   "metadata": {},
   "outputs": [
    {
     "data": {
      "image/png": "[encoded data removed]",
      "text/plain": [
       "<Figure size 432x432 with 1 Axes>"
      ]
     },
     "metadata": {},
     "output_type": "display_data"
    }
   ],
   "source": [
    "results = getAverages(train_df, 'number_of_constraints', 'runtime')\n",
    "runtime = []\n",
    "number_of_teams = []\n",
    "for item in results:\n",
    "    runtime.append(item[1])\n",
    "    number_of_teams.append(item[0])\n",
    "\n",
    "fig = plt.figure(figsize=(6,6))\n",
    "plt.title('Average runtime vs number_of_constraints Correlation')\n",
    "plt.plot(runtime, number_of_teams, color='blue', marker='o')\n",
    "plt.xlabel('Runtime (s)')\n",
    "plt.ylabel('Number of Constraints')\n",
    "plt.show()"
   ]
  },
  {
   "cell_type": "code",
   "execution_count": 120,
   "metadata": {
    "scrolled": false
   },
   "outputs": [
    {
     "data": {
      "image/png": "[encoded data removed]",
      "text/plain": [
       "<Figure size 432x432 with 1 Axes>"
      ]
     },
     "metadata": {},
     "output_type": "display_data"
    }
   ],
   "source": [
    "results = getAverages(train_df, 'fixtures_left', 'runtime')\n",
    "runtime = []\n",
    "fixtures_left = []\n",
    "for item in results:\n",
    "    runtime.append(item[1])\n",
    "    fixtures_left.append(item[0])\n",
    "\n",
    "fig = plt.figure(figsize=(6,6))\n",
    "plt.title('Average runtime vs fixtures_left Correlation')\n",
    "plt.plot(runtime, fixtures_left, color='blue', marker='o')\n",
    "plt.xlabel('Runtime (s)')\n",
    "plt.ylabel('Number of Fixtures Left')\n",
    "plt.show()"
   ]
  },
  {
   "cell_type": "markdown",
   "metadata": {},
   "source": [
    "<h1>Evaluation of Average Case Runtimes</h1>"
   ]
  },
  {
   "cell_type": "code",
   "execution_count": 114,
   "metadata": {},
   "outputs": [
    {
     "name": "stdout",
     "output_type": "stream",
     "text": [
      "6 number of teams Average Runtime: 0.042591\n",
      "7 number of teams Average Runtime: 0.503184\n",
      "8 number of teams Average Runtime: 1.044475\n",
      "9 number of teams Average Runtime: 1.869238\n",
      "10 number of teams Average Runtime: 2.374400\n",
      "11 number of teams Average Runtime: 3.979065\n",
      "12 number of teams Average Runtime: 4.007289\n",
      "13 number of teams Average Runtime: 4.915291\n",
      "14 number of teams Average Runtime: 6.099358\n",
      "15 number of teams Average Runtime: 6.347585\n",
      "16 number of teams Average Runtime: 6.026657\n",
      "17 number of teams Average Runtime: 6.808960\n",
      "18 number of teams Average Runtime: 7.361525\n"
     ]
    }
   ],
   "source": [
    "for i in range(df['number_of_teams'].min(), df['number_of_teams'].max()+1):\n",
    "    average = df[df['number_of_teams'] == i]['runtime'].mean()\n",
    "#     print(average)\n",
    "    print('%s number of teams Average Runtime: %f' % (i, average))\n",
    "    \n",
    "# print(df['number_of_teams'].mean())"
   ]
  },
  {
   "cell_type": "code",
   "execution_count": 115,
   "metadata": {},
   "outputs": [
    {
     "name": "stdout",
     "output_type": "stream",
     "text": [
      "1 number of constraints Runtime: 1.657144\n",
      "2 number of constraints Runtime: 2.993414\n",
      "3 number of constraints Runtime: 3.777080\n",
      "4 number of constraints Runtime: 4.858039\n",
      "5 number of constraints Runtime: 5.277671\n"
     ]
    }
   ],
   "source": [
    "for i in range(df['number_of_constraints'].min(), df['number_of_constraints'].max()+1):\n",
    "    average = df[df['number_of_constraints'] == i]['runtime'].mean()\n",
    "#     print(average)\n",
    "    print('%s number of constraints Runtime: %f' % (i, average))"
   ]
  },
  {
   "cell_type": "code",
   "execution_count": 116,
   "metadata": {},
   "outputs": [
    {
     "name": "stdout",
     "output_type": "stream",
     "text": [
      "1 fixtures left Runtime: 0.069149\n",
      "2 fixtures left Runtime: 0.146062\n",
      "3 fixtures left Runtime: 0.603510\n",
      "4 fixtures left Runtime: 1.346782\n",
      "5 fixtures left Runtime: 3.473714\n",
      "6 fixtures left Runtime: 4.869995\n",
      "7 fixtures left Runtime: 6.740071\n",
      "8 fixtures left Runtime: 8.103440\n",
      "9 fixtures left Runtime: 8.640895\n",
      "10 fixtures left Runtime: 9.466505\n",
      "11 fixtures left Runtime: 9.353122\n",
      "12 fixtures left Runtime: 9.311350\n",
      "13 fixtures left Runtime: 10.054080\n",
      "14 fixtures left Runtime: 10.412167\n",
      "15 fixtures left Runtime: 12.253133\n",
      "16 fixtures left Runtime: 12.353600\n"
     ]
    }
   ],
   "source": [
    "for i in range(df['fixtures_left'].min(), df['fixtures_left'].max()+1):\n",
    "    average = df[df['fixtures_left'] == i]['runtime'].mean()\n",
    "#     print(average)\n",
    "    print('%s fixtures left Runtime: %f' % (i, average))"
   ]
  },
  {
   "cell_type": "code",
   "execution_count": null,
   "metadata": {},
   "outputs": [],
   "source": []
  },
  {
   "cell_type": "code",
   "execution_count": null,
   "metadata": {},
   "outputs": [],
   "source": []
  },
  {
   "cell_type": "code",
   "execution_count": null,
   "metadata": {},
   "outputs": [],
   "source": []
  },
  {
   "cell_type": "code",
   "execution_count": null,
   "metadata": {},
   "outputs": [],
   "source": []
  }
 ],
 "metadata": {
  "kernelspec": {
   "display_name": "Python 3",
   "language": "python",
   "name": "python3"
  },
  "language_info": {
   "codemirror_mode": {
    "name": "ipython",
    "version": 3
   },
   "file_extension": ".py",
   "mimetype": "text/x-python",
   "name": "python",
   "nbconvert_exporter": "python",
   "pygments_lexer": "ipython3",
   "version": "3.6.8"
  }
 },
 "nbformat": 4,
 "nbformat_minor": 2
}
