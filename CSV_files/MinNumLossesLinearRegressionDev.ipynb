{
 "cells": [
  {
   "cell_type": "code",
   "execution_count": 1,
   "metadata": {},
   "outputs": [],
   "source": [
    "%reload_ext autoreload\n",
    "%autoreload 2\n",
    "%matplotlib inline"
   ]
  },
  {
   "cell_type": "code",
   "execution_count": 2,
   "metadata": {},
   "outputs": [],
   "source": [
    "import pandas as pd\n",
    "import numpy as np\n",
    "import matplotlib.pyplot as plt"
   ]
  },
  {
   "cell_type": "code",
   "execution_count": 3,
   "metadata": {},
   "outputs": [],
   "source": [
    "from sklearn.compose import ColumnTransformer\n",
    "from sklearn.pipeline import Pipeline\n",
    "from sklearn.impute import SimpleImputer\n",
    "from sklearn.preprocessing import OneHotEncoder\n",
    "from sklearn.preprocessing import StandardScaler\n",
    "from sklearn.decomposition import PCA\n",
    "from sklearn.linear_model import LinearRegression\n",
    "from sklearn.metrics import mean_squared_error\n",
    "from sklearn.metrics import mean_absolute_error\n",
    "from sklearn.model_selection import cross_val_score\n",
    "from sklearn.model_selection import cross_val_predict\n",
    "from sklearn.model_selection import KFold\n",
    "from pandas.plotting import scatter_matrix\n",
    "from sklearn.impute import SimpleImputer\n",
    "from sklearn.dummy import DummyClassifier\n",
    "from sklearn.feature_extraction.text import TfidfVectorizer\n",
    "from sklearn.datasets import load_iris\n",
    "from sklearn.feature_selection import SelectKBest\n",
    "from sklearn.feature_selection import chi2\n",
    "from sklearn.feature_extraction.text import CountVectorizer\n",
    "from sklearn.feature_extraction.text import TfidfTransformer\n",
    "from sklearn.naive_bayes import MultinomialNB\n",
    "from sklearn.model_selection import train_test_split\n",
    "\n",
    "from os import system\n",
    "\n",
    "from sklearn.compose import ColumnTransformer\n",
    "\n",
    "from sklearn.pipeline import Pipeline\n",
    "\n",
    "from sklearn.preprocessing import StandardScaler\n",
    "from sklearn.preprocessing import FunctionTransformer\n",
    "from sklearn.preprocessing import LabelEncoder\n",
    "\n",
    "from sklearn.linear_model import LinearRegression\n",
    "from sklearn.linear_model import LogisticRegression\n",
    "\n",
    "from sklearn.tree import DecisionTreeRegressor\n",
    "from sklearn.tree import DecisionTreeClassifier\n",
    "from sklearn.tree import export_graphviz\n",
    "\n",
    "from sklearn.linear_model import Lasso\n",
    "\n",
    "from sklearn.ensemble import RandomForestClassifier\n",
    "from sklearn.ensemble import RandomForestRegressor\n",
    "from sklearn.ensemble import AdaBoostClassifier\n",
    "from sklearn.ensemble import AdaBoostRegressor\n",
    "from sklearn.ensemble import GradientBoostingClassifier\n",
    "from sklearn.ensemble import GradientBoostingRegressor\n",
    "\n",
    "from sklearn.model_selection import cross_val_score\n",
    "\n",
    "import seaborn as sns\n",
    "\n",
    "import warnings\n",
    "from sklearn.exceptions import DataConversionWarning\n",
    "warnings.filterwarnings(action='ignore', category=DataConversionWarning)\n",
    "warnings.filterwarnings(action='ignore', category=FutureWarning)"
   ]
  },
  {
   "cell_type": "code",
   "execution_count": 4,
   "metadata": {},
   "outputs": [
    {
     "name": "stdout",
     "output_type": "stream",
     "text": [
      "12384\n"
     ]
    }
   ],
   "source": [
    "original_df = pd.read_csv(\"MinNumLosses.csv\")\n",
    "df = pd.read_csv(\"MinNumLosses.csv\")\n",
    "# print(len(df))\n",
    "runtime15=df[df['min_num_losses'] == -1].index\n",
    "df.drop(runtime15, inplace=True)\n",
    "# test_df = df(np.random.randn(100,2))\n",
    "train_df, test_df = train_test_split(df, test_size = 0.2)\n",
    "test_y = test_df['min_num_losses'].values\n",
    "train_df, validation_df = train_test_split(train_df, test_size=0.2)\n",
    "# train_df.reset_index(drop=True)\n",
    "print(len(train_df))"
   ]
  },
  {
   "cell_type": "code",
   "execution_count": 5,
   "metadata": {
    "scrolled": true
   },
   "outputs": [
    {
     "data": {
      "text/html": [
       "<div>\n",
       "<style scoped>\n",
       "    .dataframe tbody tr th:only-of-type {\n",
       "        vertical-align: middle;\n",
       "    }\n",
       "\n",
       "    .dataframe tbody tr th {\n",
       "        vertical-align: top;\n",
       "    }\n",
       "\n",
       "    .dataframe thead th {\n",
       "        text-align: right;\n",
       "    }\n",
       "</style>\n",
       "<table border=\"1\" class=\"dataframe\">\n",
       "  <thead>\n",
       "    <tr style=\"text-align: right;\">\n",
       "      <th></th>\n",
       "      <th>c_avg_deg_cons</th>\n",
       "      <th>c_avg_dom_cons</th>\n",
       "      <th>c_avg_domdeg_cons</th>\n",
       "      <th>c_bounds_d</th>\n",
       "      <th>c_bounds_r</th>\n",
       "      <th>c_bounds_z</th>\n",
       "      <th>c_cv_deg_cons</th>\n",
       "      <th>c_cv_dom_cons</th>\n",
       "      <th>c_cv_domdeg_cons</th>\n",
       "      <th>c_domain</th>\n",
       "      <th>...</th>\n",
       "      <th>v_ratio_bounded</th>\n",
       "      <th>v_ratio_vars</th>\n",
       "      <th>v_sum_deg_vars</th>\n",
       "      <th>v_sum_dom_vars</th>\n",
       "      <th>v_sum_domdeg_vars</th>\n",
       "      <th>number_of_teams</th>\n",
       "      <th>fixtures_left</th>\n",
       "      <th>number_of_constraints</th>\n",
       "      <th>runtime</th>\n",
       "      <th>min_num_losses</th>\n",
       "    </tr>\n",
       "  </thead>\n",
       "  <tbody>\n",
       "    <tr>\n",
       "      <th>count</th>\n",
       "      <td>12384.000000</td>\n",
       "      <td>12384.000000</td>\n",
       "      <td>12384.000000</td>\n",
       "      <td>12384.0</td>\n",
       "      <td>12384.0</td>\n",
       "      <td>12384.0</td>\n",
       "      <td>12384.000000</td>\n",
       "      <td>12384.000000</td>\n",
       "      <td>12384.000000</td>\n",
       "      <td>12384.0</td>\n",
       "      <td>...</td>\n",
       "      <td>12384.000000</td>\n",
       "      <td>12384.000000</td>\n",
       "      <td>12384.000000</td>\n",
       "      <td>12384.000000</td>\n",
       "      <td>12384.000000</td>\n",
       "      <td>12384.000000</td>\n",
       "      <td>12384.000000</td>\n",
       "      <td>12384.000000</td>\n",
       "      <td>12384.000000</td>\n",
       "      <td>12384.000000</td>\n",
       "    </tr>\n",
       "    <tr>\n",
       "      <th>mean</th>\n",
       "      <td>2.729224</td>\n",
       "      <td>4.854550</td>\n",
       "      <td>1.714919</td>\n",
       "      <td>0.0</td>\n",
       "      <td>0.0</td>\n",
       "      <td>0.0</td>\n",
       "      <td>0.656375</td>\n",
       "      <td>0.735984</td>\n",
       "      <td>0.462546</td>\n",
       "      <td>0.0</td>\n",
       "      <td>...</td>\n",
       "      <td>0.349750</td>\n",
       "      <td>0.978849</td>\n",
       "      <td>1891.830346</td>\n",
       "      <td>1879.792959</td>\n",
       "      <td>816.213988</td>\n",
       "      <td>10.760578</td>\n",
       "      <td>4.281815</td>\n",
       "      <td>2.851340</td>\n",
       "      <td>0.857448</td>\n",
       "      <td>3.273821</td>\n",
       "    </tr>\n",
       "    <tr>\n",
       "      <th>std</th>\n",
       "      <td>0.084483</td>\n",
       "      <td>0.589739</td>\n",
       "      <td>0.155663</td>\n",
       "      <td>0.0</td>\n",
       "      <td>0.0</td>\n",
       "      <td>0.0</td>\n",
       "      <td>0.152498</td>\n",
       "      <td>0.104065</td>\n",
       "      <td>0.076710</td>\n",
       "      <td>0.0</td>\n",
       "      <td>...</td>\n",
       "      <td>0.171066</td>\n",
       "      <td>0.007923</td>\n",
       "      <td>1284.534432</td>\n",
       "      <td>1305.327235</td>\n",
       "      <td>557.922062</td>\n",
       "      <td>3.729434</td>\n",
       "      <td>2.902720</td>\n",
       "      <td>1.414822</td>\n",
       "      <td>3.015841</td>\n",
       "      <td>2.334923</td>\n",
       "    </tr>\n",
       "    <tr>\n",
       "      <th>min</th>\n",
       "      <td>2.432620</td>\n",
       "      <td>3.653340</td>\n",
       "      <td>1.408750</td>\n",
       "      <td>0.0</td>\n",
       "      <td>0.0</td>\n",
       "      <td>0.0</td>\n",
       "      <td>0.412949</td>\n",
       "      <td>0.511876</td>\n",
       "      <td>0.278296</td>\n",
       "      <td>0.0</td>\n",
       "      <td>...</td>\n",
       "      <td>0.112381</td>\n",
       "      <td>0.950704</td>\n",
       "      <td>341.000000</td>\n",
       "      <td>339.000000</td>\n",
       "      <td>155.000000</td>\n",
       "      <td>6.000000</td>\n",
       "      <td>1.000000</td>\n",
       "      <td>1.000000</td>\n",
       "      <td>0.020000</td>\n",
       "      <td>0.000000</td>\n",
       "    </tr>\n",
       "    <tr>\n",
       "      <th>25%</th>\n",
       "      <td>2.676530</td>\n",
       "      <td>4.458760</td>\n",
       "      <td>1.595380</td>\n",
       "      <td>0.0</td>\n",
       "      <td>0.0</td>\n",
       "      <td>0.0</td>\n",
       "      <td>0.522827</td>\n",
       "      <td>0.650470</td>\n",
       "      <td>0.405846</td>\n",
       "      <td>0.0</td>\n",
       "      <td>...</td>\n",
       "      <td>0.184685</td>\n",
       "      <td>0.973483</td>\n",
       "      <td>798.000000</td>\n",
       "      <td>798.000000</td>\n",
       "      <td>340.473000</td>\n",
       "      <td>7.000000</td>\n",
       "      <td>2.000000</td>\n",
       "      <td>2.000000</td>\n",
       "      <td>0.040000</td>\n",
       "      <td>1.000000</td>\n",
       "    </tr>\n",
       "    <tr>\n",
       "      <th>50%</th>\n",
       "      <td>2.740825</td>\n",
       "      <td>4.895030</td>\n",
       "      <td>1.716230</td>\n",
       "      <td>0.0</td>\n",
       "      <td>0.0</td>\n",
       "      <td>0.0</td>\n",
       "      <td>0.630688</td>\n",
       "      <td>0.734407</td>\n",
       "      <td>0.457028</td>\n",
       "      <td>0.0</td>\n",
       "      <td>...</td>\n",
       "      <td>0.316071</td>\n",
       "      <td>0.980198</td>\n",
       "      <td>1386.000000</td>\n",
       "      <td>1406.000000</td>\n",
       "      <td>595.305000</td>\n",
       "      <td>10.000000</td>\n",
       "      <td>4.000000</td>\n",
       "      <td>3.000000</td>\n",
       "      <td>0.070000</td>\n",
       "      <td>3.000000</td>\n",
       "    </tr>\n",
       "    <tr>\n",
       "      <th>75%</th>\n",
       "      <td>2.797650</td>\n",
       "      <td>5.294810</td>\n",
       "      <td>1.826840</td>\n",
       "      <td>0.0</td>\n",
       "      <td>0.0</td>\n",
       "      <td>0.0</td>\n",
       "      <td>0.797686</td>\n",
       "      <td>0.813263</td>\n",
       "      <td>0.513945</td>\n",
       "      <td>0.0</td>\n",
       "      <td>...</td>\n",
       "      <td>0.512299</td>\n",
       "      <td>0.985573</td>\n",
       "      <td>2903.000000</td>\n",
       "      <td>2839.000000</td>\n",
       "      <td>1264.180000</td>\n",
       "      <td>14.000000</td>\n",
       "      <td>6.000000</td>\n",
       "      <td>4.000000</td>\n",
       "      <td>0.140000</td>\n",
       "      <td>5.000000</td>\n",
       "    </tr>\n",
       "    <tr>\n",
       "      <th>max</th>\n",
       "      <td>2.878490</td>\n",
       "      <td>5.961950</td>\n",
       "      <td>2.037180</td>\n",
       "      <td>0.0</td>\n",
       "      <td>0.0</td>\n",
       "      <td>0.0</td>\n",
       "      <td>1.009230</td>\n",
       "      <td>1.028680</td>\n",
       "      <td>0.656425</td>\n",
       "      <td>0.0</td>\n",
       "      <td>...</td>\n",
       "      <td>0.706587</td>\n",
       "      <td>0.991839</td>\n",
       "      <td>6156.000000</td>\n",
       "      <td>6623.000000</td>\n",
       "      <td>2712.450000</td>\n",
       "      <td>18.000000</td>\n",
       "      <td>16.000000</td>\n",
       "      <td>5.000000</td>\n",
       "      <td>15.020000</td>\n",
       "      <td>9.000000</td>\n",
       "    </tr>\n",
       "  </tbody>\n",
       "</table>\n",
       "<p>8 rows × 100 columns</p>\n",
       "</div>"
      ],
      "text/plain": [
       "       c_avg_deg_cons  c_avg_dom_cons  c_avg_domdeg_cons  c_bounds_d  \\\n",
       "count    12384.000000    12384.000000       12384.000000     12384.0   \n",
       "mean         2.729224        4.854550           1.714919         0.0   \n",
       "std          0.084483        0.589739           0.155663         0.0   \n",
       "min          2.432620        3.653340           1.408750         0.0   \n",
       "25%          2.676530        4.458760           1.595380         0.0   \n",
       "50%          2.740825        4.895030           1.716230         0.0   \n",
       "75%          2.797650        5.294810           1.826840         0.0   \n",
       "max          2.878490        5.961950           2.037180         0.0   \n",
       "\n",
       "       c_bounds_r  c_bounds_z  c_cv_deg_cons  c_cv_dom_cons  c_cv_domdeg_cons  \\\n",
       "count     12384.0     12384.0   12384.000000   12384.000000      12384.000000   \n",
       "mean          0.0         0.0       0.656375       0.735984          0.462546   \n",
       "std           0.0         0.0       0.152498       0.104065          0.076710   \n",
       "min           0.0         0.0       0.412949       0.511876          0.278296   \n",
       "25%           0.0         0.0       0.522827       0.650470          0.405846   \n",
       "50%           0.0         0.0       0.630688       0.734407          0.457028   \n",
       "75%           0.0         0.0       0.797686       0.813263          0.513945   \n",
       "max           0.0         0.0       1.009230       1.028680          0.656425   \n",
       "\n",
       "       c_domain       ...        v_ratio_bounded  v_ratio_vars  \\\n",
       "count   12384.0       ...           12384.000000  12384.000000   \n",
       "mean        0.0       ...               0.349750      0.978849   \n",
       "std         0.0       ...               0.171066      0.007923   \n",
       "min         0.0       ...               0.112381      0.950704   \n",
       "25%         0.0       ...               0.184685      0.973483   \n",
       "50%         0.0       ...               0.316071      0.980198   \n",
       "75%         0.0       ...               0.512299      0.985573   \n",
       "max         0.0       ...               0.706587      0.991839   \n",
       "\n",
       "       v_sum_deg_vars  v_sum_dom_vars  v_sum_domdeg_vars\\n\\n  number_of_teams  \\\n",
       "count    12384.000000    12384.000000           12384.000000     12384.000000   \n",
       "mean      1891.830346     1879.792959             816.213988        10.760578   \n",
       "std       1284.534432     1305.327235             557.922062         3.729434   \n",
       "min        341.000000      339.000000             155.000000         6.000000   \n",
       "25%        798.000000      798.000000             340.473000         7.000000   \n",
       "50%       1386.000000     1406.000000             595.305000        10.000000   \n",
       "75%       2903.000000     2839.000000            1264.180000        14.000000   \n",
       "max       6156.000000     6623.000000            2712.450000        18.000000   \n",
       "\n",
       "       fixtures_left  number_of_constraints       runtime  min_num_losses  \n",
       "count   12384.000000           12384.000000  12384.000000    12384.000000  \n",
       "mean        4.281815               2.851340      0.857448        3.273821  \n",
       "std         2.902720               1.414822      3.015841        2.334923  \n",
       "min         1.000000               1.000000      0.020000        0.000000  \n",
       "25%         2.000000               2.000000      0.040000        1.000000  \n",
       "50%         4.000000               3.000000      0.070000        3.000000  \n",
       "75%         6.000000               4.000000      0.140000        5.000000  \n",
       "max        16.000000               5.000000     15.020000        9.000000  \n",
       "\n",
       "[8 rows x 100 columns]"
      ]
     },
     "execution_count": 5,
     "metadata": {},
     "output_type": "execute_result"
    }
   ],
   "source": [
    "train_df.describe(include='all')\n",
    "# print((train_df['runtime'].max())%1 == 0)\n",
    "# print(train_df[(train_df['c_avg_deg_cons'] < 3)])"
   ]
  },
  {
   "cell_type": "code",
   "execution_count": 6,
   "metadata": {},
   "outputs": [],
   "source": [
    "def getAverages(lst, average_feature, average_result):\n",
    "    copy_lst = lst.reset_index(drop=True)\n",
    "    averages = []\n",
    "    if copy_lst[average_feature].max()%1 == 0:\n",
    "        for value in range(1, copy_lst[average_feature].max()+1):\n",
    "            value_indices = np.where(copy_lst[average_feature]==value)\n",
    "            total=0\n",
    "            for value_index in value_indices[0]:\n",
    "                total += int(copy_lst[average_result][value_index])\n",
    "            if len(value_indices[0]) != 0:\n",
    "                averages.append([value, total/len(value_indices[0])])\n",
    "    else:\n",
    "        for value in range(1, (int(copy_lst[average_feature].max()//1)+3)):\n",
    "            value_indices_less = np.where((copy_lst[average_feature]<=value))\n",
    "            value_indices_greater = np.where((copy_lst[average_feature]>value-1))\n",
    "            value_indices = [np.intersect1d(value_indices_less, value_indices_greater)]\n",
    "            print(np.average(value_indices[0]))\n",
    "            total=0\n",
    "            for value_index in value_indices[0]:\n",
    "                total += copy_lst[average_result][value_index]\n",
    "            if len(value_indices[0]) != 0:\n",
    "                averages.append([value, total/len(value_indices[0])])\n",
    "    return averages"
   ]
  },
  {
   "cell_type": "code",
   "execution_count": 7,
   "metadata": {},
   "outputs": [],
   "source": [
    "train_y = train_df['min_num_losses'].values\n",
    "league_numeric_features = [\n",
    " 'c_avg_deg_cons',\n",
    " 'c_avg_dom_cons',\n",
    " 'c_avg_domdeg_cons',\n",
    " 'c_cv_deg_cons',\n",
    " 'c_cv_dom_cons',\n",
    " 'c_cv_domdeg_cons',\n",
    " 'c_ent_deg_cons',\n",
    " 'c_ent_dom_cons',\n",
    " 'c_ent_domdeg_cons',\n",
    " 'c_logprod_deg_cons',\n",
    " 'c_logprod_dom_cons',\n",
    " 'c_max_deg_cons',\n",
    " 'c_max_dom_cons',\n",
    " 'c_max_domdeg_cons',\n",
    " 'c_num_cons',\n",
    " 'c_ratio_cons',\n",
    " 'c_sum_ari_cons',\n",
    " 'c_sum_dom_cons',\n",
    " 'c_sum_domdeg_cons',\n",
    " 'd_bool_vars',\n",
    " 'd_int_cons',\n",
    " 'd_int_vars',\n",
    " 'd_ratio_bool_vars',\n",
    " 'd_ratio_int_cons',\n",
    " 'd_ratio_int_vars',\n",
    " 'o_deg',\n",
    " 'o_deg_avg',\n",
    " 'o_deg_cons',\n",
    " 'o_deg_std',\n",
    " 'o_dom',\n",
    " 'o_dom_avg',\n",
    " 'o_dom_std',\n",
    " 'v_avg_deg_vars',\n",
    " 'v_avg_dom_vars',\n",
    " 'v_avg_domdeg_vars',\n",
    " 'v_cv_deg_vars',\n",
    " 'v_cv_dom_vars',\n",
    " 'v_cv_domdeg_vars',\n",
    " 'v_def_vars',\n",
    " 'v_ent_deg_vars',\n",
    " 'v_ent_dom_vars',\n",
    " 'v_ent_domdeg_vars',\n",
    " 'v_intro_vars',\n",
    " 'v_logprod_deg_vars',\n",
    " 'v_logprod_dom_vars',\n",
    " 'v_max_deg_vars',\n",
    " 'v_max_dom_vars',\n",
    " 'v_max_domdeg_vars',\n",
    " 'v_min_dom_vars',\n",
    " 'v_min_domdeg_vars',\n",
    " 'v_num_aliases',\n",
    " 'v_num_consts',\n",
    " 'v_num_vars',\n",
    " 'v_ratio_bounded',\n",
    " 'v_ratio_vars',\n",
    " 'v_sum_deg_vars',\n",
    " 'v_sum_dom_vars',\n",
    " 'v_sum_domdeg_vars\\n\\n',\n",
    " 'number_of_teams',\n",
    " 'fixtures_left',\n",
    " 'number_of_constraints']\n",
    "\n",
    "null_league_numeric_values = [\n",
    "    'v_min_deg_vars',\n",
    "    'c_bounds_d',\n",
    "    'c_bounds_r',\n",
    "    'c_bounds_z',\n",
    "    'd_ratio_set_cons',\n",
    "    'd_ratio_set_vars',\n",
    "    'd_set_cons',\n",
    "    'd_set_vars',\n",
    "    'gc_diff_globs',\n",
    "    'gc_global_cons',\n",
    "    'gc_ratio_diff',\n",
    "    'gc_ratio_globs',\n",
    "    's_bool_search',\n",
    "    's_first_fail',\n",
    "    's_goal',\n",
    "    's_indomain_max',\n",
    "    's_indomain_min',\n",
    "    's_input_order',\n",
    "    's_int_search',\n",
    "    's_labeled_vars',\n",
    "    's_other_val',\n",
    "    's_other_var',\n",
    "    's_set_search',\n",
    "    'o_dom_deg',\n",
    "    'd_ratio_float_cons',\n",
    "    'd_ratio_float_vars',\n",
    "    'c_min_deg_cons',\n",
    "    'c_min_dom_cons',\n",
    "    'c_min_domdeg_cons',\n",
    "    'd_ratio_array_cons',\n",
    "    'd_ratio_bool_cons',\n",
    "    'd_float_cons',\n",
    "    'd_float_vars',\n",
    "    'd_array_cons',\n",
    "    'd_bool_cons',\n",
    "    'c_domain',\n",
    "    'c_priority',\n",
    "]"
   ]
  },
  {
   "cell_type": "code",
   "execution_count": 8,
   "metadata": {},
   "outputs": [],
   "source": [
    "# # split the features into sets of 5, check their correlation with output, and delete\n",
    "# # uncorrelated features\n",
    "# split_features = []\n",
    "# # league_numeric_features += ['result']\n",
    "# features_with_y = league_numeric_features\n",
    "# # train_df['result'] = train_y\n",
    "\n",
    "# for i in range(0, len(features_with_y), 10):\n",
    "#     split_features.append(features_with_y[i:i+10]+['min_num_losses'])\n",
    "\n",
    "# # print(split_features)\n",
    "# # list(df.columns)\n",
    "# plt.figure(figsize=(30,30))\n",
    "# # cor = train_df[split_features[1]].corr()\n",
    "# cor = train_df[league_numeric_features+['min_num_losses']].corr()\n",
    "# # print(train_df[split_features[1]].corr())\n",
    "# sns.heatmap(cor, annot=True, cmap=plt.cm.Reds)\n",
    "# plt.show()"
   ]
  },
  {
   "cell_type": "code",
   "execution_count": 9,
   "metadata": {},
   "outputs": [],
   "source": [
    "lr = Pipeline([\n",
    "    ('pre', ColumnTransformer([('num', FunctionTransformer(lambda x : x), league_numeric_features)], remainder=\"drop\")),\n",
    "    ('est', LinearRegression())\n",
    "])"
   ]
  },
  {
   "cell_type": "code",
   "execution_count": 10,
   "metadata": {},
   "outputs": [
    {
     "name": "stdout",
     "output_type": "stream",
     "text": [
      "['gc_ratio_diff']\n"
     ]
    }
   ],
   "source": [
    "# train_df.isnull().sum()\n",
    "print([i for i in train_df.columns if train_df[i].isnull().any()])\n",
    "# train_df.isna().any()"
   ]
  },
  {
   "cell_type": "code",
   "execution_count": 11,
   "metadata": {},
   "outputs": [
    {
     "name": "stdout",
     "output_type": "stream",
     "text": [
      "0.3850631081997701\n"
     ]
    },
    {
     "name": "stderr",
     "output_type": "stream",
     "text": [
      "/home/jack/.local/lib/python3.6/site-packages/sklearn/linear_model/_coordinate_descent.py:476: ConvergenceWarning: Objective did not converge. You might want to increase the number of iterations. Duality gap: 12251.06002731396, tolerance: 6.751047278746777\n",
      "  positive)\n"
     ]
    }
   ],
   "source": [
    "lr = Pipeline([\n",
    "    ('pre', ColumnTransformer([('num', FunctionTransformer(lambda x : x), league_numeric_features)], remainder=\"drop\")),\n",
    "    ('est', Lasso(alpha=1.0))\n",
    "])\n",
    "\n",
    "model = lr.fit(train_df, train_y)\n",
    "print(model.score(train_df, train_y))"
   ]
  },
  {
   "cell_type": "code",
   "execution_count": 12,
   "metadata": {
    "scrolled": true
   },
   "outputs": [
    {
     "name": "stderr",
     "output_type": "stream",
     "text": [
      "/home/jack/.local/lib/python3.6/site-packages/sklearn/linear_model/_coordinate_descent.py:476: ConvergenceWarning: Objective did not converge. You might want to increase the number of iterations. Duality gap: 3687.8173970031207, tolerance: 1.9136888888888863\n",
      "  positive)\n",
      "/home/jack/.local/lib/python3.6/site-packages/sklearn/linear_model/_coordinate_descent.py:476: ConvergenceWarning: Objective did not converge. You might want to increase the number of iterations. Duality gap: 3752.3109667983163, tolerance: 1.9087866819747408\n",
      "  positive)\n",
      "/home/jack/.local/lib/python3.6/site-packages/sklearn/linear_model/_coordinate_descent.py:476: ConvergenceWarning: Objective did not converge. You might want to increase the number of iterations. Duality gap: 3758.49480330378, tolerance: 1.9156379735935727\n",
      "  positive)\n",
      "/home/jack/.local/lib/python3.6/site-packages/sklearn/linear_model/_coordinate_descent.py:476: ConvergenceWarning: Objective did not converge. You might want to increase the number of iterations. Duality gap: 3687.9802796175272, tolerance: 1.891372675086108\n",
      "  positive)\n",
      "/home/jack/.local/lib/python3.6/site-packages/sklearn/linear_model/_coordinate_descent.py:476: ConvergenceWarning: Objective did not converge. You might want to increase the number of iterations. Duality gap: 3683.5053118390615, tolerance: 1.894362342135477\n",
      "  positive)\n",
      "/home/jack/.local/lib/python3.6/site-packages/sklearn/linear_model/_coordinate_descent.py:476: ConvergenceWarning: Objective did not converge. You might want to increase the number of iterations. Duality gap: 3728.7586007793834, tolerance: 1.9140999712973605\n",
      "  positive)\n",
      "/home/jack/.local/lib/python3.6/site-packages/sklearn/linear_model/_coordinate_descent.py:476: ConvergenceWarning: Objective did not converge. You might want to increase the number of iterations. Duality gap: 3637.0632218394016, tolerance: 1.9098219288174523\n",
      "  positive)\n",
      "/home/jack/.local/lib/python3.6/site-packages/sklearn/linear_model/_coordinate_descent.py:476: ConvergenceWarning: Objective did not converge. You might want to increase the number of iterations. Duality gap: 3685.333512806671, tolerance: 1.9114157003444332\n",
      "  positive)\n",
      "/home/jack/.local/lib/python3.6/site-packages/sklearn/linear_model/_coordinate_descent.py:476: ConvergenceWarning: Objective did not converge. You might want to increase the number of iterations. Duality gap: 3788.1131910829454, tolerance: 1.9330362801377727\n",
      "  positive)\n",
      "/home/jack/.local/lib/python3.6/site-packages/sklearn/linear_model/_coordinate_descent.py:476: ConvergenceWarning: Objective did not converge. You might want to increase the number of iterations. Duality gap: 3637.3855642605204, tolerance: 1.903566704936855\n",
      "  positive)\n"
     ]
    },
    {
     "data": {
      "text/plain": [
       "-3.331081572207426"
      ]
     },
     "execution_count": 12,
     "metadata": {},
     "output_type": "execute_result"
    }
   ],
   "source": [
    "np.mean(cross_val_score(lr, test_df, test_y, scoring='neg_mean_squared_error', cv=10))"
   ]
  },
  {
   "cell_type": "code",
   "execution_count": 21,
   "metadata": {},
   "outputs": [
    {
     "name": "stderr",
     "output_type": "stream",
     "text": [
      "/home/jack/.local/lib/python3.6/site-packages/sklearn/linear_model/_coordinate_descent.py:476: ConvergenceWarning: Objective did not converge. You might want to increase the number of iterations. Duality gap: 3687.8173970031207, tolerance: 1.9136888888888863\n",
      "  positive)\n",
      "/home/jack/.local/lib/python3.6/site-packages/sklearn/linear_model/_coordinate_descent.py:476: ConvergenceWarning: Objective did not converge. You might want to increase the number of iterations. Duality gap: 3752.3109667983163, tolerance: 1.9087866819747408\n",
      "  positive)\n",
      "/home/jack/.local/lib/python3.6/site-packages/sklearn/linear_model/_coordinate_descent.py:476: ConvergenceWarning: Objective did not converge. You might want to increase the number of iterations. Duality gap: 3758.49480330378, tolerance: 1.9156379735935727\n",
      "  positive)\n",
      "/home/jack/.local/lib/python3.6/site-packages/sklearn/linear_model/_coordinate_descent.py:476: ConvergenceWarning: Objective did not converge. You might want to increase the number of iterations. Duality gap: 3687.9802796175272, tolerance: 1.891372675086108\n",
      "  positive)\n",
      "/home/jack/.local/lib/python3.6/site-packages/sklearn/linear_model/_coordinate_descent.py:476: ConvergenceWarning: Objective did not converge. You might want to increase the number of iterations. Duality gap: 3683.5053118390615, tolerance: 1.894362342135477\n",
      "  positive)\n",
      "/home/jack/.local/lib/python3.6/site-packages/sklearn/linear_model/_coordinate_descent.py:476: ConvergenceWarning: Objective did not converge. You might want to increase the number of iterations. Duality gap: 3728.7586007793834, tolerance: 1.9140999712973605\n",
      "  positive)\n",
      "/home/jack/.local/lib/python3.6/site-packages/sklearn/linear_model/_coordinate_descent.py:476: ConvergenceWarning: Objective did not converge. You might want to increase the number of iterations. Duality gap: 3637.0632218394016, tolerance: 1.9098219288174523\n",
      "  positive)\n",
      "/home/jack/.local/lib/python3.6/site-packages/sklearn/linear_model/_coordinate_descent.py:476: ConvergenceWarning: Objective did not converge. You might want to increase the number of iterations. Duality gap: 3685.333512806671, tolerance: 1.9114157003444332\n",
      "  positive)\n",
      "/home/jack/.local/lib/python3.6/site-packages/sklearn/linear_model/_coordinate_descent.py:476: ConvergenceWarning: Objective did not converge. You might want to increase the number of iterations. Duality gap: 3788.1131910829454, tolerance: 1.9330362801377727\n",
      "  positive)\n",
      "/home/jack/.local/lib/python3.6/site-packages/sklearn/linear_model/_coordinate_descent.py:476: ConvergenceWarning: Objective did not converge. You might want to increase the number of iterations. Duality gap: 3637.3855642605204, tolerance: 1.903566704936855\n",
      "  positive)\n"
     ]
    },
    {
     "data": {
      "image/png": "[encoded data removed]",
      "text/plain": [
       "<Figure size 432x288 with 1 Axes>"
      ]
     },
     "metadata": {},
     "output_type": "display_data"
    }
   ],
   "source": [
    "predicted = cross_val_predict(lr, test_df, test_y, cv=10)\n",
    "fix, ax = plt.subplots()\n",
    "ax.scatter(test_y, predicted, edgecolors=(0,0,0))\n",
    "ax.plot([test_y.min(), test_y.max()], [test_y.min(), test_y.max()], 'k--', lw=4)\n",
    "plt.title(\"Linear Regression\")\n",
    "ax.set_xlabel('Actual Minimum Number of Losses')\n",
    "ax.set_ylabel('Predicted Minimum Number of Losses')\n",
    "plt.show()\n",
    "# remove 15 second timeouts"
   ]
  },
  {
   "cell_type": "code",
   "execution_count": 22,
   "metadata": {},
   "outputs": [
    {
     "name": "stderr",
     "output_type": "stream",
     "text": [
      "/home/jack/.local/lib/python3.6/site-packages/sklearn/linear_model/_coordinate_descent.py:476: ConvergenceWarning: Objective did not converge. You might want to increase the number of iterations. Duality gap: 3687.8173970031207, tolerance: 1.9136888888888863\n",
      "  positive)\n",
      "/home/jack/.local/lib/python3.6/site-packages/sklearn/linear_model/_coordinate_descent.py:476: ConvergenceWarning: Objective did not converge. You might want to increase the number of iterations. Duality gap: 3752.3109667983163, tolerance: 1.9087866819747408\n",
      "  positive)\n",
      "/home/jack/.local/lib/python3.6/site-packages/sklearn/linear_model/_coordinate_descent.py:476: ConvergenceWarning: Objective did not converge. You might want to increase the number of iterations. Duality gap: 3758.49480330378, tolerance: 1.9156379735935727\n",
      "  positive)\n",
      "/home/jack/.local/lib/python3.6/site-packages/sklearn/linear_model/_coordinate_descent.py:476: ConvergenceWarning: Objective did not converge. You might want to increase the number of iterations. Duality gap: 3687.9802796175272, tolerance: 1.891372675086108\n",
      "  positive)\n",
      "/home/jack/.local/lib/python3.6/site-packages/sklearn/linear_model/_coordinate_descent.py:476: ConvergenceWarning: Objective did not converge. You might want to increase the number of iterations. Duality gap: 3683.5053118390615, tolerance: 1.894362342135477\n",
      "  positive)\n",
      "/home/jack/.local/lib/python3.6/site-packages/sklearn/linear_model/_coordinate_descent.py:476: ConvergenceWarning: Objective did not converge. You might want to increase the number of iterations. Duality gap: 3728.7586007793834, tolerance: 1.9140999712973605\n",
      "  positive)\n",
      "/home/jack/.local/lib/python3.6/site-packages/sklearn/linear_model/_coordinate_descent.py:476: ConvergenceWarning: Objective did not converge. You might want to increase the number of iterations. Duality gap: 3637.0632218394016, tolerance: 1.9098219288174523\n",
      "  positive)\n",
      "/home/jack/.local/lib/python3.6/site-packages/sklearn/linear_model/_coordinate_descent.py:476: ConvergenceWarning: Objective did not converge. You might want to increase the number of iterations. Duality gap: 3685.333512806671, tolerance: 1.9114157003444332\n",
      "  positive)\n",
      "/home/jack/.local/lib/python3.6/site-packages/sklearn/linear_model/_coordinate_descent.py:476: ConvergenceWarning: Objective did not converge. You might want to increase the number of iterations. Duality gap: 3788.1131910829454, tolerance: 1.9330362801377727\n",
      "  positive)\n",
      "/home/jack/.local/lib/python3.6/site-packages/sklearn/linear_model/_coordinate_descent.py:476: ConvergenceWarning: Objective did not converge. You might want to increase the number of iterations. Duality gap: 3637.3855642605204, tolerance: 1.903566704936855\n",
      "  positive)\n"
     ]
    },
    {
     "data": {
      "text/plain": [
       "array([[1.       , 0.6281303],\n",
       "       [0.6281303, 1.       ]])"
      ]
     },
     "execution_count": 22,
     "metadata": {},
     "output_type": "execute_result"
    }
   ],
   "source": [
    "predicted = cross_val_predict(lr, test_df, test_y, cv=10)\n",
    "np.corrcoef(predicted, test_y)"
   ]
  },
  {
   "cell_type": "code",
   "execution_count": 15,
   "metadata": {},
   "outputs": [
    {
     "data": {
      "image/png": "[encoded data removed]",
      "text/plain": [
       "<Figure size 432x432 with 1 Axes>"
      ]
     },
     "metadata": {},
     "output_type": "display_data"
    }
   ],
   "source": [
    "results = getAverages(train_df, 'number_of_teams', 'runtime')\n",
    "runtime = []\n",
    "number_of_teams = []\n",
    "for item in results:\n",
    "    runtime.append(item[1])\n",
    "    number_of_teams.append(item[0])\n",
    "\n",
    "fig = plt.figure(figsize=(6,6))\n",
    "plt.title('Average runtime vs number_of_teams Correlation')\n",
    "plt.plot(runtime, number_of_teams, color='blue', marker='o')\n",
    "plt.xlabel('Runtime (s)')\n",
    "plt.ylabel('Number of Teams')\n",
    "plt.show()"
   ]
  },
  {
   "cell_type": "code",
   "execution_count": 16,
   "metadata": {},
   "outputs": [
    {
     "data": {
      "image/png": "[encoded data removed]",
      "text/plain": [
       "<Figure size 432x432 with 1 Axes>"
      ]
     },
     "metadata": {},
     "output_type": "display_data"
    }
   ],
   "source": [
    "results = getAverages(train_df, 'number_of_constraints', 'runtime')\n",
    "runtime = []\n",
    "number_of_teams = []\n",
    "for item in results:\n",
    "    runtime.append(item[1])\n",
    "    number_of_teams.append(item[0])\n",
    "\n",
    "fig = plt.figure(figsize=(6,6))\n",
    "plt.title('Average runtime vs number_of_constraints Correlation')\n",
    "plt.plot(runtime, number_of_teams, color='blue', marker='o')\n",
    "plt.xlabel('Runtime (s)')\n",
    "plt.ylabel('Number of Constraints')\n",
    "plt.show()"
   ]
  },
  {
   "cell_type": "code",
   "execution_count": 17,
   "metadata": {
    "scrolled": false
   },
   "outputs": [
    {
     "data": {
      "image/png": "[encoded data removed]",
      "text/plain": [
       "<Figure size 432x432 with 1 Axes>"
      ]
     },
     "metadata": {},
     "output_type": "display_data"
    }
   ],
   "source": [
    "results = getAverages(train_df, 'fixtures_left', 'runtime')\n",
    "runtime = []\n",
    "fixtures_left = []\n",
    "for item in results:\n",
    "    runtime.append(item[1])\n",
    "    fixtures_left.append(item[0])\n",
    "\n",
    "fig = plt.figure(figsize=(6,6))\n",
    "plt.title('Average runtime vs fixtures_left Correlation')\n",
    "plt.plot(runtime, fixtures_left, color='blue', marker='o')\n",
    "plt.xlabel('Runtime (s)')\n",
    "plt.ylabel('Number of Fixtures Left')\n",
    "plt.show()"
   ]
  },
  {
   "cell_type": "markdown",
   "metadata": {},
   "source": [
    "<h1>Evaluation of Average Case Runtimes</h1>"
   ]
  },
  {
   "cell_type": "code",
   "execution_count": 18,
   "metadata": {},
   "outputs": [
    {
     "name": "stdout",
     "output_type": "stream",
     "text": [
      "6 number of teams Average Runtime: 0.042591\n",
      "7 number of teams Average Runtime: 0.503184\n",
      "8 number of teams Average Runtime: 0.950747\n",
      "9 number of teams Average Runtime: 1.030466\n",
      "10 number of teams Average Runtime: 0.832602\n",
      "11 number of teams Average Runtime: 1.251167\n",
      "12 number of teams Average Runtime: 1.345087\n",
      "13 number of teams Average Runtime: 0.953266\n",
      "14 number of teams Average Runtime: 1.308412\n",
      "15 number of teams Average Runtime: 1.469952\n",
      "16 number of teams Average Runtime: 0.809774\n",
      "17 number of teams Average Runtime: 0.862943\n",
      "18 number of teams Average Runtime: 0.836944\n"
     ]
    }
   ],
   "source": [
    "for i in range(df['number_of_teams'].min(), df['number_of_teams'].max()+1):\n",
    "    average = df[df['number_of_teams'] == i]['runtime'].mean()\n",
    "#     print(average)\n",
    "    print('%s number of teams Average Runtime: %f' % (i, average))\n",
    "    \n",
    "# print(df['number_of_teams'].mean())"
   ]
  },
  {
   "cell_type": "code",
   "execution_count": 19,
   "metadata": {},
   "outputs": [
    {
     "name": "stdout",
     "output_type": "stream",
     "text": [
      "1 number of constraints Runtime: 0.514110\n",
      "2 number of constraints Runtime: 0.641729\n",
      "3 number of constraints Runtime: 0.930624\n",
      "4 number of constraints Runtime: 1.194089\n",
      "5 number of constraints Runtime: 1.178968\n"
     ]
    }
   ],
   "source": [
    "for i in range(df['number_of_constraints'].min(), df['number_of_constraints'].max()+1):\n",
    "    average = df[df['number_of_constraints'] == i]['runtime'].mean()\n",
    "#     print(average)\n",
    "    print('%s number of constraints Runtime: %f' % (i, average))"
   ]
  },
  {
   "cell_type": "code",
   "execution_count": 20,
   "metadata": {},
   "outputs": [
    {
     "name": "stdout",
     "output_type": "stream",
     "text": [
      "1 fixtures left Runtime: 0.069149\n",
      "2 fixtures left Runtime: 0.131558\n",
      "3 fixtures left Runtime: 0.287933\n",
      "4 fixtures left Runtime: 0.821362\n",
      "5 fixtures left Runtime: 1.990373\n",
      "6 fixtures left Runtime: 2.373885\n",
      "7 fixtures left Runtime: 1.569706\n",
      "8 fixtures left Runtime: 1.618589\n",
      "9 fixtures left Runtime: 1.240700\n",
      "10 fixtures left Runtime: 1.666633\n",
      "11 fixtures left Runtime: 1.163125\n",
      "12 fixtures left Runtime: 1.265090\n",
      "13 fixtures left Runtime: 0.499591\n",
      "14 fixtures left Runtime: 0.155161\n",
      "15 fixtures left Runtime: 1.179000\n",
      "16 fixtures left Runtime: 0.194444\n"
     ]
    }
   ],
   "source": [
    "for i in range(df['fixtures_left'].min(), df['fixtures_left'].max()+1):\n",
    "    average = df[df['fixtures_left'] == i]['runtime'].mean()\n",
    "#     print(average)\n",
    "    print('%s fixtures left Runtime: %f' % (i, average))"
   ]
  },
  {
   "cell_type": "code",
   "execution_count": null,
   "metadata": {},
   "outputs": [],
   "source": []
  },
  {
   "cell_type": "code",
   "execution_count": null,
   "metadata": {},
   "outputs": [],
   "source": []
  },
  {
   "cell_type": "code",
   "execution_count": null,
   "metadata": {},
   "outputs": [],
   "source": []
  },
  {
   "cell_type": "code",
   "execution_count": null,
   "metadata": {},
   "outputs": [],
   "source": []
  }
 ],
 "metadata": {
  "kernelspec": {
   "display_name": "Python 3",
   "language": "python",
   "name": "python3"
  },
  "language_info": {
   "codemirror_mode": {
    "name": "ipython",
    "version": 3
   },
   "file_extension": ".py",
   "mimetype": "text/x-python",
   "name": "python",
   "nbconvert_exporter": "python",
   "pygments_lexer": "ipython3",
   "version": "3.6.8"
  }
 },
 "nbformat": 4,
 "nbformat_minor": 2
}
